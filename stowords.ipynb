{
 "cells": [
  {
   "cell_type": "code",
   "execution_count": 5,
   "metadata": {},
   "outputs": [],
   "source": [
    "# Stopwords are common words (like \"is,\" \"the,\" \"in,\" \"and,\" etc.) that do not add much meaning to a sentence and are often removed during text processing in NLP."
   ]
  },
  {
   "cell_type": "code",
   "execution_count": 1,
   "metadata": {},
   "outputs": [],
   "source": [
    "import spacy"
   ]
  },
  {
   "cell_type": "code",
   "execution_count": 2,
   "metadata": {},
   "outputs": [],
   "source": [
    "from spacy.lang.en.stop_words import STOP_WORDS"
   ]
  },
  {
   "cell_type": "code",
   "execution_count": null,
   "metadata": {},
   "outputs": [
    {
     "name": "stdout",
     "output_type": "stream",
     "text": [
      "{'nobody', 'ourselves', 'and', 'six', 'beside', 'mine', 'myself', 'over', 'latterly', 'whereafter', 'if', 'such', 'been', 'else', 'sixty', 'because', 'hereupon', 'nine', 'go', 'side', 'hundred', 'each', 'i', \"'ll\", 'once', 'first', 'me', '‘ve', 'enough', '‘ll', 'every', 'together', 'move', 'more', 'hence', 'above', 'neither', 'whenever', 'seeming', 'another', '‘s', 'see', 'regarding', 'thence', 'eleven', 'before', 'whom', 'latter', 'ca', 'ten', 'everything', 'whoever', 'back', 'that', 'quite', 'please', 'many', 'everywhere', 'three', 'yourself', 'former', 'nowhere', 'indeed', 'beyond', 'upon', 'our', 'nothing', 'used', 'although', 'during', 'she', 'two', 'some', 'last', 'bottom', '’d', 'for', 'always', '’ve', 'except', 'third', 'forty', 'too', 'this', 'often', 'either', 'beforehand', 'done', 'same', 'around', 'none', 'must', 'thereby', \"'s\", 'well', 'though', 'down', 'never', 'amount', 'your', 'all', 'my', 'on', 'also', 'under', 'whose', 'nor', 'via', 'can', 'against', 'amongst', 'them', 'then', 'call', 'however', 'not', 'give', 'they', 'did', 'thus', 'own', 'from', 'sometime', 'out', 'take', 'among', 'is', 'still', 'hereafter', 'her', 'therein', '’s', 'a', 'something', 'ours', 'only', 'than', 'you', 'fifteen', 'herself', 'while', 'becomes', 'sometimes', 'might', 'throughout', 'below', 'get', 'do', 'noone', 'seem', 'where', 'until', 'could', 'others', 'wherever', 'am', '‘m', 'make', 'behind', 'which', 'its', 'itself', 'into', 'several', 'eight', 'through', 'the', '’re', 'yours', 'by', 'already', 'become', 'anyone', 'perhaps', 'no', 'very', 'nevertheless', 'yourselves', 'both', 'herein', 'why', 'besides', 'one', 'anyway', 'n’t', 'due', 'be', \"'d\", 'unless', 'we', 'would', 'whereby', 'became', 'seems', 'were', 'at', 'even', 'does', 'with', 'had', 'say', 'was', \"'m\", 'along', 'thereupon', 'becoming', 'onto', 'mostly', 'doing', 'when', 'he', 'various', 'towards', 'toward', 'afterwards', 'have', 'so', 'thereafter', 'him', 'fifty', 're', \"'re\", 'up', 'wherein', 'everyone', 'whatever', 'may', 'otherwise', 'off', 'any', 'show', 'namely', 'someone', 'those', '’ll', 'really', 'front', 'formerly', 'meanwhile', 'serious', 'here', 'in', 'whole', 'after', 'somewhere', 'less', 'whereas', 'how', 'what', 'four', 'empty', \"'ve\", 'their', 'without', 'cannot', 'just', 'to', 'other', '’m', 'it', 'keep', 'are', 'his', 'anything', 'five', 'put', 'most', 'has', '‘re', 'about', 'should', 'per', 'whence', 'anyhow', 'ever', 'twenty', 'himself', 'hereby', 'these', 'whether', 'themselves', 'being', 'using', 'but', 'again', 'since', 'therefore', 'now', 'top', 'anywhere', 'almost', 'thru', 'between', 'twelve', 'yet', 'who', 'n‘t', 'few', 'name', 'or', 'much', 'will', 'part', 'an', 'least', 'us', 'whither', 'moreover', 'whereupon', 'rather', 'somehow', 'alone', 'seemed', 'as', 'hers', 'across', 'there', '‘d', \"n't\", 'full', 'further', 'within', 'elsewhere', 'of', 'made', 'next'} \n",
      "\n"
     ]
    }
   ],
   "source": [
    "print(STOP_WORDS)"
   ]
  },
  {
   "cell_type": "code",
   "execution_count": 7,
   "metadata": {},
   "outputs": [
    {
     "data": {
      "text/plain": [
       "True"
      ]
     },
     "execution_count": 7,
     "metadata": {},
     "output_type": "execute_result"
    }
   ],
   "source": [
    "#checking any stopword in the above list\n",
    "\"in\" in STOP_WORDS"
   ]
  },
  {
   "cell_type": "code",
   "execution_count": 8,
   "metadata": {},
   "outputs": [
    {
     "data": {
      "text/plain": [
       "False"
      ]
     },
     "execution_count": 8,
     "metadata": {},
     "output_type": "execute_result"
    }
   ],
   "source": [
    "\"Apple\" in STOP_WORDS"
   ]
  },
  {
   "cell_type": "code",
   "execution_count": 9,
   "metadata": {},
   "outputs": [],
   "source": [
    "nlp = spacy.load(\"en_core_web_sm\")"
   ]
  },
  {
   "cell_type": "code",
   "execution_count": 11,
   "metadata": {},
   "outputs": [
    {
     "data": {
      "text/plain": [
       "False"
      ]
     },
     "execution_count": 11,
     "metadata": {},
     "output_type": "execute_result"
    }
   ],
   "source": [
    "#also used to check whether any word is in the stop list or not\n",
    "nlp.vocab[\"Apple\"].is_stop"
   ]
  },
  {
   "cell_type": "code",
   "execution_count": 12,
   "metadata": {},
   "outputs": [],
   "source": [
    "doc = nlp(\"Python is a Programming Language. I am Learning NLP\")"
   ]
  },
  {
   "cell_type": "code",
   "execution_count": 15,
   "metadata": {},
   "outputs": [
    {
     "name": "stdout",
     "output_type": "stream",
     "text": [
      "is\n",
      "a\n",
      "I\n",
      "am\n"
     ]
    }
   ],
   "source": [
    "for i in doc:\n",
    "    if nlp.vocab[i.text].is_stop:\n",
    "        print(i.text)\n",
    "#hamare doc me se kon kon se words STOP_WORDS vale h"
   ]
  },
  {
   "cell_type": "code",
   "execution_count": 16,
   "metadata": {},
   "outputs": [
    {
     "name": "stdout",
     "output_type": "stream",
     "text": [
      "Python\n",
      "Programming\n",
      "Language\n",
      ".\n",
      "Learning\n",
      "NLP\n"
     ]
    }
   ],
   "source": [
    "for i in doc:\n",
    "    if not nlp.vocab[i.text].is_stop:\n",
    "        print(i.text)\n",
    "#hamare doc me se kon kon se words STOP_WORDS vale nhi h"
   ]
  },
  {
   "cell_type": "code",
   "execution_count": null,
   "metadata": {},
   "outputs": [],
   "source": []
  }
 ],
 "metadata": {
  "kernelspec": {
   "display_name": "Python 3",
   "language": "python",
   "name": "python3"
  },
  "language_info": {
   "codemirror_mode": {
    "name": "ipython",
    "version": 3
   },
   "file_extension": ".py",
   "mimetype": "text/x-python",
   "name": "python",
   "nbconvert_exporter": "python",
   "pygments_lexer": "ipython3",
   "version": "3.12.4"
  }
 },
 "nbformat": 4,
 "nbformat_minor": 2
}
